{
 "cells": [
  {
   "cell_type": "code",
   "execution_count": null,
   "id": "initial_id",
   "metadata": {
    "collapsed": true,
    "is_executing": true
   },
   "outputs": [],
   "source": [
    "from img_classify.dataset import *\n",
    "from img_classify.downloader import *\n",
    "from img_classify.evaluate_model import *\n",
    "from img_classify.tools import *\n",
    "from keras import Sequential\n",
    "from keras.applications import *\n",
    "from keras.callbacks import *\n",
    "from keras.layers import *\n",
    "from keras.losses import *\n",
    "from keras.optimizers import AdamW\n",
    "from keras.src.utils import set_random_seed"
   ]
  },
  {
   "cell_type": "code",
   "outputs": [],
   "source": [
    "# Tải dữ liệu từ thư viện Kaggle\n",
    "if not os.path.exists('datasets/tyre_quality'):\n",
    "\tkaggle_downloader(\n",
    "\t\t'tyre_quality',\n",
    "\t\t'warcoder/tyre-quality-classification'\n",
    "\t)"
   ],
   "metadata": {
    "collapsed": false,
    "is_executing": true
   },
   "id": "a8026a50fcc544c7",
   "execution_count": null
  },
  {
   "cell_type": "code",
   "outputs": [],
   "source": [
    "# Thiết lập chung\n",
    "train_path = 'datasets/tyre_quality/Digital images of defective and good condition tyres/'\n",
    "img_save_path = 'imgs/tyre_quality/'\n",
    "set_random_seed(69)\n",
    "IMG_SIZE = (128, 128, 3)"
   ],
   "metadata": {
    "collapsed": false,
    "is_executing": true
   },
   "id": "cd39f0353fbfe0b5",
   "execution_count": null
  },
  {
   "cell_type": "code",
   "outputs": [],
   "source": [
    "# Tạo nhãn cho tập dữ liệu\n",
    "class_names = create_label_from_dir(train_path).output"
   ],
   "metadata": {
    "collapsed": false,
    "is_executing": true
   },
   "id": "1701917c2da2d215",
   "execution_count": null
  },
  {
   "cell_type": "code",
   "outputs": [],
   "source": [
    "# Kiểm tra ảnh trong thư mục\n",
    "check_dir(train_path)"
   ],
   "metadata": {
    "collapsed": false,
    "is_executing": true
   },
   "id": "88c251f3af5e0f9b",
   "execution_count": null
  },
  {
   "cell_type": "code",
   "outputs": [],
   "source": [
    "# Kiểm tra độ cân bằng dữ liệu\n",
    "check_balance(\n",
    "\ttrain_path,\n",
    "\tclass_names,\n",
    "\timg_save_path=os.path.join(img_save_path, 'check_balance.jpg')\n",
    ")\n"
   ],
   "metadata": {
    "collapsed": false,
    "is_executing": true
   },
   "id": "bd3580529cb9bdad",
   "execution_count": null
  },
  {
   "cell_type": "code",
   "outputs": [],
   "source": [
    "# Tái cân bằng tập dữ liệu\n",
    "img_model = ImageDataGenerator(\n",
    "\thorizontal_flip=True,\n",
    "\tvertical_flip=True,\n",
    "\twidth_shift_range=.2,\n",
    "\theight_shift_range=.2,\n",
    "\tzoom_range=.2\n",
    ")\n",
    "\n",
    "fix_imbalance_with_image_augmentation(\n",
    "\ttrain_path,\n",
    "\timg_model=img_model,\n",
    "\timg_size=(IMG_SIZE[0], IMG_SIZE[1]),\n",
    "\tclass_names=class_names\n",
    ")"
   ],
   "metadata": {
    "collapsed": false,
    "is_executing": true
   },
   "id": "ea2a9c0e136f2612",
   "execution_count": null
  },
  {
   "cell_type": "code",
   "outputs": [],
   "source": [
    "## Nạp ảnh\n",
    "a = images_to_array(train_path, class_names, (IMG_SIZE[0], IMG_SIZE[1]))\n",
    "images, labels = a.images, a.labels\n",
    "\n",
    "## Tách mảng để Train/Test/Val (65/20/15)\n",
    "(train_images, train_labels), (test_images, test_labels), (val_images, val_labels) = train_test_val_split(\n",
    "\timages,\n",
    "\tlabels,\n",
    "\ttrain_size=.70,\n",
    "\ttest_size=.25,\n",
    "\tval_size=.05\n",
    ").output\n",
    "\n",
    "## Tăng cường ảnh tập Train\n",
    "train_img_model = ImageDataGenerator(\n",
    "\thorizontal_flip=True,\n",
    "\tvertical_flip=True,\n",
    "\tzoom_range=.2,\n",
    "\trotation_range=30,\n",
    "\tshear_range=.2\n",
    ")\n",
    "train_img_model.flow(\n",
    "\ttrain_images,\n",
    "\ttrain_labels,\n",
    "\tseed=69\n",
    ")\n",
    "\n",
    "## Rescale ảnh\n",
    "train_images = train_images / 255.\n",
    "test_images = test_images / 255.\n",
    "val_images = val_images / 255.\n",
    "\n",
    "# Xây dựng mô hình\n",
    "def my_model():\n",
    "\t#  Thiết lập mô hình\n",
    "\tbase_model = MobileNetV2(include_top=False, input_shape=IMG_SIZE)\n",
    "\tbase_model.trainable = False\n",
    "\tmodel = Sequential(\n",
    "\t\t[\n",
    "\t\t\tbase_model,\n",
    "\n",
    "\t\t\tGlobalAveragePooling2D(),\n",
    "\t\t\tFlatten(),\n",
    "\t\t\tDense(128, activation='relu', kernel_regularizer='l2'),\n",
    "\t\t\tDropout(.2),\n",
    "\t\t\tDense(128, activation='relu'),\n",
    "\t\t\tDropout(.2),\n",
    "\t\t\tDense(len(class_names), activation='softmax')\n",
    "\t\t]\n",
    "\t)\n",
    "\t# Biên dịch mô hình\n",
    "\tmodel.compile(\n",
    "\t\tAdamW(),\n",
    "\t\tCategoricalCrossentropy(),\n",
    "\t\t['accuracy']\n",
    "\t)\n",
    "\treturn model\n",
    "\n",
    "# Chọn mô hình\n",
    "model = my_model()\n",
    "# Khái quát mô hình\n",
    "model.summary()\n",
    "# Đào tạo mô hình\n",
    "history = model.fit(\n",
    "\ttrain_images,\n",
    "\ttrain_labels,\n",
    "\tepochs=100,\n",
    "\tvalidation_data=(test_images, test_labels),\n",
    "\tcallbacks=[\n",
    "\t\tEarlyStopping(\n",
    "\t\t\tmonitor='val_accuracy',\n",
    "\t\t\tpatience=10,\n",
    "\t\t\trestore_best_weights=True\n",
    "\t\t),\n",
    "\t\tReduceLROnPlateau(\n",
    "\t\t\tmonitor='val_accuracy',\n",
    "\t\t\tfactor=.1,\n",
    "\t\t\tpatience=5,\n",
    "\t\t\tmin_lr=.0001\n",
    "\t\t)\n",
    "\t]\n",
    ")\n",
    "# Lưu mô hình\n",
    "model.save('models/tyre_quality_model.h5')\n",
    "# Đánh giá quá trình đào tạo\n",
    "EvalofTraining(history, img_save_path)\n",
    "# Đánh giá mô hình qua tập Test\n",
    "sai_so, do_chinh_xac = model.evaluate(test_images, test_labels)\n",
    "print(f'Sai số: {sai_so}')\n",
    "print(f'Độ chính xác: {do_chinh_xac}')\n"
   ],
   "metadata": {
    "collapsed": false,
    "is_executing": true
   },
   "id": "889f21e295ed89ed",
   "execution_count": null
  },
  {
   "cell_type": "code",
   "outputs": [],
   "source": [
    "## Đánh giá mô hình\n",
    "# Dự đoán 4 ảnh trong tập Val\n",
    "pred_labels = model.predict(val_images)\n",
    "eval_of_model_with_images(\n",
    "\t3, 3, val_images, pred_labels, val_labels, class_names,\n",
    "\timg_save_path=os.path.join(img_save_path, 'eval_of_model_with_images.jpg')\n",
    ")\n",
    "# Đánh giá mô hình bằng biểu đồ nhiệt\n",
    "heatmap_plot(\n",
    "\tval_labels,\n",
    "\tpred_labels,\n",
    "\tclass_names,\n",
    "\timg_save_path=os.path.join(img_save_path, 'eval_of_model_with_heatmap.jpg')\n",
    ")"
   ],
   "metadata": {
    "collapsed": false,
    "is_executing": true
   },
   "id": "e6ea53057f3c3cb3"
  }
 ],
 "metadata": {
  "kernelspec": {
   "display_name": "Python 3",
   "language": "python",
   "name": "python3"
  },
  "language_info": {
   "codemirror_mode": {
    "name": "ipython",
    "version": 2
   },
   "file_extension": ".py",
   "mimetype": "text/x-python",
   "name": "python",
   "nbconvert_exporter": "python",
   "pygments_lexer": "ipython2",
   "version": "2.7.6"
  }
 },
 "nbformat": 4,
 "nbformat_minor": 5
}
