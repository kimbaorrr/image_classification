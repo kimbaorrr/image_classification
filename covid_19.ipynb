{
 "cells": [
  {
   "cell_type": "code",
   "execution_count": null,
   "id": "initial_id",
   "metadata": {
    "collapsed": true,
    "is_executing": true
   },
   "outputs": [],
   "source": [
    "from img_classify.dataset import *\n",
    "from img_classify.downloader import *\n",
    "from img_classify.evaluate_model import *\n",
    "from img_classify.tools import *\n",
    "from keras import Sequential\n",
    "from keras.applications import *\n",
    "from keras.callbacks import *\n",
    "from keras.losses import *\n",
    "from keras.optimizers import AdamW\n",
    "from keras.src.utils import set_random_seed\n",
    "from keras.layers import *\n",
    "from datetime import datetime"
   ]
  },
  {
   "cell_type": "code",
   "outputs": [],
   "source": [
    "# Tải dữ liệu từ thư viện Kaggle\n",
    "if not os.path.exists('datasets/covid_19'):\n",
    "\tkaggle_downloader(\n",
    "\t\t'covid_19',\n",
    "\t\t'plameneduardo/sarscov2-ctscan-dataset'\n",
    "\t)"
   ],
   "metadata": {
    "collapsed": false,
    "is_executing": true
   },
   "id": "3845204efd50c6a6",
   "execution_count": null
  },
  {
   "cell_type": "code",
   "outputs": [],
   "source": [
    "\n",
    "# Thiết lập chung\n",
    "train_path = 'datasets/covid_19/'\n",
    "img_save_path = 'imgs/covid_19/'\n",
    "set_random_seed(69)\n",
    "IMG_SIZE = (192, 192, 3)\n"
   ],
   "metadata": {
    "collapsed": false,
    "is_executing": true
   },
   "id": "b6737f2e0cc3bf4b",
   "execution_count": null
  },
  {
   "cell_type": "code",
   "outputs": [],
   "source": [
    "# Tạo nhãn cho tập dữ liệu\n",
    "class_names = create_label_from_dir(train_path)"
   ],
   "metadata": {
    "collapsed": false,
    "is_executing": true
   },
   "id": "c3c5455166ae64e9",
   "execution_count": null
  },
  {
   "cell_type": "code",
   "outputs": [],
   "source": [
    "# Kiểm tra ảnh trong thư mục\n",
    "check_dir(train_path)"
   ],
   "metadata": {
    "collapsed": false,
    "is_executing": true
   },
   "id": "cb809ff2fb7cc134",
   "execution_count": null
  },
  {
   "cell_type": "code",
   "outputs": [],
   "source": [
    "# Kiểm tra độ cân bằng dữ liệu\n",
    "check_balance(\n",
    "\ttrain_path,\n",
    "\tclass_names,\n",
    "\timg_save_path=os.path.join(img_save_path, 'check_balance.jpg')\n",
    ")"
   ],
   "metadata": {
    "collapsed": false,
    "is_executing": true
   },
   "id": "fc78fc67977c4a08",
   "execution_count": null
  },
  {
   "cell_type": "code",
   "outputs": [],
   "source": [
    "# Tái cân bằng nhãn tập dữ liệu\n",
    "img_model = ImageDataGenerator(\n",
    "\thorizontal_flip=True,\n",
    "\tzoom_range=.02\n",
    ")\n",
    "\n",
    "fix_imbalance_with_image_augmentation(\n",
    "\ttrain_path,\n",
    "\timg_size=(IMG_SIZE[0], IMG_SIZE[1]),\n",
    "\timg_model=img_model,\n",
    "\tclass_names=class_names\n",
    ")"
   ],
   "metadata": {
    "collapsed": false,
    "is_executing": true
   },
   "id": "3f6bb415232b2cf0",
   "execution_count": null
  },
  {
   "cell_type": "code",
   "outputs": [],
   "source": [
    "## Nạp ảnh\n",
    "images, labels = images_to_array(train_path, class_names, (IMG_SIZE[0], IMG_SIZE[1]))\n",
    "\n",
    "## Tách mảng để Train/Test/Val (70/25/5)\n",
    "(train_images, train_labels), (test_images, test_labels), (val_images, val_labels) = train_test_val_split(\n",
    "\timages,\n",
    "\tlabels,\n",
    "\ttrain_size=.70,\n",
    "\ttest_size=.25,\n",
    "\tval_size=.05\n",
    ")\n",
    "\n",
    "## Tăng cường ảnh tập Train\n",
    "# train_img_model = ImageDataGenerator(\n",
    "# \thorizontal_flip=True,\n",
    "# \tbrightness_range=(.3, .7),\n",
    "# \tzoom_range=.2,\n",
    "# \tshear_range=.2,\n",
    "# \theight_shift_range=.1\n",
    "# )\n",
    "# train_img_model.flow(\n",
    "# \ttrain_images,\n",
    "# \ttrain_labels,\n",
    "# \tseed=69\n",
    "# )\n",
    "\n",
    "## Rescale ảnh\n",
    "train_images = train_images / 255.\n",
    "test_images = test_images / 255.\n",
    "val_images = val_images / 255."
   ],
   "metadata": {
    "collapsed": false,
    "is_executing": true
   },
   "id": "d3ef0dc68551006d",
   "execution_count": null
  },
  {
   "cell_type": "code",
   "execution_count": null,
   "outputs": [],
   "source": [
    "# Xây dựng mô hình\n",
    "def my_model():\n",
    "\t#  Thiết lập mô hình\n",
    "\t#base_model = MobileNetV2(include_top=False, input_shape=IMG_SIZE)\n",
    "\t#base_model.trainable = False\n",
    "\n",
    "\tmodel = Sequential(\n",
    "\t\t[\n",
    "\t\t\t#base_model,\n",
    "\n",
    "\t\t\tInputLayer(input_shape=IMG_SIZE),\n",
    "\n",
    "\t\t\tConv2D(32, kernel_size=3, strides=2, padding='same', activation='relu'),\n",
    "\t\t\tDropout(.10),\n",
    "\t\t\tConv2D(32, kernel_size=3, strides=2, padding='same', activation='relu'),\n",
    "\t\t\tDropout(.10),\n",
    "\t\t\tConv2D(32, kernel_size=3, strides=2, padding='same', activation='relu'),\n",
    "\t\t\tDropout(.10),\n",
    "\n",
    "\t\t\tConv2D(64, kernel_size=3, strides=2, padding='same', activation='relu'),\n",
    "\t\t\tDropout(.10),\n",
    "\t\t\tConv2D(64, kernel_size=3, strides=2, padding='same', activation='relu'),\n",
    "\t\t\tDropout(.10),\n",
    "\t\t\tConv2D(64, kernel_size=3, strides=1, padding='same', activation='relu'),\n",
    "\t\t\tDropout(.10),\n",
    "\n",
    "\t\t\tConv2D(128, kernel_size=3, strides=2, padding='same', activation='relu'),\n",
    "\t\t\tDropout(.10),\n",
    "\t\t\tConv2D(128, kernel_size=3, strides=2, padding='same', activation='relu'),\n",
    "\t\t\tDropout(.10),\n",
    "\t\t\tConv2D(128, kernel_size=3, strides=2, padding='same', activation='relu'),\n",
    "\t\t\tDropout(.10),\n",
    "\n",
    "\t\t\tGlobalAveragePooling2D(),\n",
    "\n",
    "\t\t\tFlatten(),\n",
    "\t\t\tDense(256, kernel_regularizer='l2', activation='relu'),\n",
    "\t\t\tDense(32, activation='relu'),\n",
    "\t\t\tDense(len(class_names), activation='sigmoid')\n",
    "\t\t]\n",
    "\t)\n",
    "\n",
    "\t# Biên dịch mô hình\n",
    "\tmodel.compile(\n",
    "\t\tAdamW(),\n",
    "\t\tBinaryCrossentropy(),\n",
    "\t\t['accuracy']\n",
    "\t)\n",
    "\treturn model\n",
    "\n",
    "# Chọn mô hình\n",
    "model = my_model()\n",
    "# Khái quát mô hình\n",
    "model.summary()\n",
    "# Đào tạo mô hình\n",
    "history = model.fit(\n",
    "\ttrain_images,\n",
    "\ttrain_labels,\n",
    "\tepochs=10,\n",
    "\tvalidation_data=(test_images, test_labels),\n",
    "\tcallbacks=[\n",
    "\t\tEarlyStopping(\n",
    "\t\t\tmonitor='val_accuracy',\n",
    "\t\t\tpatience=5,\n",
    "\t\t\trestore_best_weights=True\n",
    "\t\t),\n",
    "\t\tReduceLROnPlateau(\n",
    "\t\t\tmonitor='val_accuracy',\n",
    "\t\t\tfactor=.1,\n",
    "\t\t\tpatience=1,\n",
    "\t\t\tmin_lr=.0001\n",
    "\t\t),\n",
    "\t\tModelCheckpoint(\n",
    "\t\t\tf'models/checkpoints/covid_19/{datetime.now().strftime(\"%m%d%Y%H%M%S\")}/',\n",
    "\t\t\tmonitor='val_loss',\n",
    "\t\t\tsave_best_only=True\n",
    "\t\t)\n",
    "\t]\n",
    ")\n",
    "# Lưu mô hình\n",
    "model.save('models/covid_19_model.keras')\n",
    "## Best result: 94%"
   ],
   "metadata": {
    "collapsed": false,
    "is_executing": true
   },
   "id": "480c69e8c36f41e5"
  },
  {
   "cell_type": "code",
   "execution_count": null,
   "outputs": [],
   "source": [
    "# Đánh giá quá trình đào tạo\n",
    "EvalofTraining(history, img_save_path)\n",
    "# Đánh giá mô hình qua tập Test\n",
    "sai_so, do_chinh_xac = model.evaluate(test_images, test_labels)\n",
    "print(f'Sai số: {sai_so}')\n",
    "print(f'Độ chính xác: {do_chinh_xac}')\n",
    "# Dự đoán để đánh giá mô hình\n",
    "pred_labels = model.predict(val_images)\n",
    "eval_of_model_with_images(\n",
    "\t3, 3, val_images, pred_labels, val_labels, class_names,\n",
    "\timg_save_path=os.path.join(img_save_path, 'eval_of_model_with_images.jpg')\n",
    ")\n",
    "heatmap_plot(\n",
    "\tval_labels, pred_labels, class_names,\n",
    "\timg_save_path=os.path.join(img_save_path, 'eval_of_model_with_heatmap.jpg')\n",
    ")"
   ],
   "metadata": {
    "collapsed": false,
    "is_executing": true
   },
   "id": "94235aada6c3f3dd"
  },
  {
   "cell_type": "code",
   "execution_count": null,
   "outputs": [],
   "source": [],
   "metadata": {
    "collapsed": false,
    "is_executing": true
   },
   "id": "589482582c12eeaf"
  }
 ],
 "metadata": {
  "kernelspec": {
   "display_name": "Python 3",
   "language": "python",
   "name": "python3"
  },
  "language_info": {
   "codemirror_mode": {
    "name": "ipython",
    "version": 2
   },
   "file_extension": ".py",
   "mimetype": "text/x-python",
   "name": "python",
   "nbconvert_exporter": "python",
   "pygments_lexer": "ipython2",
   "version": "2.7.6"
  }
 },
 "nbformat": 4,
 "nbformat_minor": 5
}
