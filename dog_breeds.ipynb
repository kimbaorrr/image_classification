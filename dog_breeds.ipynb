{
 "cells": [
  {
   "cell_type": "code",
   "outputs": [],
   "source": [
    "from img_classify.dataset import *\n",
    "from img_classify.downloader import *\n",
    "from img_classify.evaluate_model import *\n",
    "from img_classify.tools import *\n",
    "from keras import Sequential\n",
    "from keras.applications import *\n",
    "from keras.callbacks import *\n",
    "from keras.layers import *\n",
    "from keras.losses import *\n",
    "from keras.optimizers import AdamW"
   ],
   "metadata": {
    "collapsed": false
   },
   "id": "cf139e5aa62e3fb9"
  },
  {
   "cell_type": "code",
   "outputs": [],
   "source": [
    "# Tải dữ liệu từ thư viện Kaggle\n",
    "if not os.path.exists('datasets/dog_breeds'):\n",
    "\tKaggleDownloader(\n",
    "\t\t'dog_breeds',\n",
    "\t\t'mohamedchahed/dog-breeds'\n",
    "\t)"
   ],
   "metadata": {
    "collapsed": false
   },
   "id": "6f8f446a13ad4728"
  },
  {
   "cell_type": "code",
   "outputs": [],
   "source": [
    "from keras.src.utils import set_random_seed\n",
    "\n",
    "# Thiết lập chung\n",
    "train_path = 'datasets/dog_breeds/dog-breeds/'\n",
    "img_save_path = 'imgs/dog_breeds/'\n",
    "set_random_seed(69)\n",
    "IMG_SIZE = (128, 128, 3)"
   ],
   "metadata": {
    "collapsed": false
   },
   "id": "2dd16afecf3d070a"
  },
  {
   "cell_type": "code",
   "outputs": [],
   "source": [
    "# Tạo nhãn cho tập dữ liệu\n",
    "class_names = CreateLabelFromDir(train_path).output"
   ],
   "metadata": {
    "collapsed": false
   },
   "id": "310a8b11fc5164dc"
  },
  {
   "cell_type": "code",
   "outputs": [],
   "source": [
    "# Kiểm tra ảnh trong thư mục\n",
    "CheckFiles(train_path)"
   ],
   "metadata": {
    "collapsed": false
   },
   "id": "3cdca0ec7f14113d"
  },
  {
   "cell_type": "code",
   "outputs": [],
   "source": [
    "# Kiểm tra độ cân bằng dữ liệu\n",
    "CheckBalance(train_path, class_names, img_save_path=os.path.join(img_save_path, 'check_balance.jpg'))"
   ],
   "metadata": {
    "collapsed": false
   },
   "id": "ede94f75073d1651"
  },
  {
   "cell_type": "code",
   "outputs": [],
   "source": [
    "# Tái cân bằng tập dữ liệu\n",
    "img_model = ImageDataGenerator(\n",
    "\thorizontal_flip=True,\n",
    "\tzoom_range=.2,\n",
    ")\n",
    "\n",
    "fix_imbalance_with_image_augmentation(\n",
    "\ttrain_path,\n",
    "\timg_size=(IMG_SIZE[0], IMG_SIZE[1]),\n",
    "\timg_model=img_model,\n",
    "\tclass_names=class_names\n",
    ")"
   ],
   "metadata": {
    "collapsed": false
   },
   "id": "a1518e87036da911"
  },
  {
   "cell_type": "code",
   "outputs": [],
   "source": [
    "## Nạp ảnh\n",
    "a = ImagestoArray(train_path, class_names, (IMG_SIZE[0], IMG_SIZE[1]))\n",
    "images, labels = a.images, a.labels\n",
    "\n",
    "## Tách mảng để Train/Test/Val (70/25/5)\n",
    "(train_images, train_labels), (test_images, test_labels), (val_images, val_labels) = TrainTestValSplit(\n",
    "\timages,\n",
    "\tlabels,\n",
    "\ttrain_size=.70,\n",
    "\ttest_size=.25,\n",
    "\tval_size=.05\n",
    ").output\n",
    "\n",
    "## Tăng cường ảnh tập Train\n",
    "train_img_model = ImageDataGenerator(\n",
    "\thorizontal_flip=True,\n",
    "\tbrightness_range=(.3, .7),\n",
    "\tzoom_range=.2,\n",
    "\tshear_range=.2,\n",
    "\theight_shift_range=.1\n",
    ")\n",
    "train_img_model.flow(\n",
    "\ttrain_images,\n",
    "\ttrain_labels,\n",
    "\tseed=69\n",
    ")\n",
    "\n",
    "## Rescale ảnh\n",
    "train_images = train_images / 255.\n",
    "test_images = test_images / 255.\n",
    "val_images = val_images / 255.\n",
    "\n",
    "# Xây dựng mô hình\n",
    "def my_model():\n",
    "\t#  Thiết lập mô hình\n",
    "\tbase_model = DenseNet121(include_top=False, input_shape=IMG_SIZE)\n",
    "\tbase_model.trainable = False\n",
    "\tmodel = Sequential(\n",
    "\t\t[\n",
    "\t\t\tbase_model,\n",
    "\n",
    "\t\t\tGlobalAveragePooling2D(),\n",
    "\t\t\tFlatten(),\n",
    "\t\t\tDense(64, activation='relu', kernel_regularizer='l2'),\n",
    "\t\t\tDropout(.2),\n",
    "\t\t\tDense(32, activation='relu'),\n",
    "\t\t\tDropout(.2),\n",
    "\t\t\tDense(len(class_names), activation='softmax')\n",
    "\t\t]\n",
    "\t)\n",
    "\t# Biên dịch mô hình\n",
    "\tmodel.compile(\n",
    "\t\tAdamW(),\n",
    "\t\tCategoricalCrossentropy(),\n",
    "\t\t['accuracy']\n",
    "\t)\n",
    "\treturn model\n",
    "\n",
    "# Chọn mô hình\n",
    "model = my_model()\n",
    "# Khái quát mô hình\n",
    "model.summary()\n",
    "# Đào tạo mô hình\n",
    "history = model.fit(\n",
    "\ttrain_images,\n",
    "\ttrain_labels,\n",
    "\tepochs=100,\n",
    "\tvalidation_data=(test_images, test_labels),\n",
    "\tcallbacks=[\n",
    "\t\tEarlyStopping(\n",
    "\t\t\tmonitor='val_accuracy',\n",
    "\t\t\tpatience=8,\n",
    "\t\t\trestore_best_weights=True\n",
    "\t\t),\n",
    "\t\tReduceLROnPlateau(\n",
    "\t\t\tmonitor='val_accuracy',\n",
    "\t\t\tfactor=.1,\n",
    "\t\t\tpatience=5,\n",
    "\t\t\tmin_lr=.0001\n",
    "\t\t)\n",
    "\t]\n",
    ")\n",
    "# Lưu mô hình\n",
    "model.save('models/dog_breeds_model.h5')\n",
    "# Đánh giá quá trình đào tạo\n",
    "EvalofTraining(history, img_save_path)\n",
    "# Đánh giá mô hình qua tập Test\n",
    "sai_so, do_chinh_xac = model.evaluate(test_images, test_labels)\n",
    "print(f'Sai số: {sai_so}')\n",
    "print(f'Độ chính xác: {do_chinh_xac}')\n",
    "# Dự đoán để đánh giá mô hình\n",
    "pred_labels = model.predict(val_images)\n",
    "eval_of_model_with_images(\n",
    "\t3, 3, val_images, pred_labels, val_labels, class_names,\n",
    "\timg_save_path=os.path.join(img_save_path, 'eval_of_model_with_images.jpg')\n",
    ")\n",
    "heatmap_plot(\n",
    "\tval_labels, pred_labels, class_names,\n",
    "\timg_save_path=os.path.join(img_save_path, 'eval_of_model_with_heatmap.jpg')\n",
    ")"
   ],
   "metadata": {
    "collapsed": false
   },
   "id": "9576e4803b3f2937"
  }
 ],
 "metadata": {
  "kernelspec": {
   "display_name": "Python 3",
   "language": "python",
   "name": "python3"
  },
  "language_info": {
   "codemirror_mode": {
    "name": "ipython",
    "version": 2
   },
   "file_extension": ".py",
   "mimetype": "text/x-python",
   "name": "python",
   "nbconvert_exporter": "python",
   "pygments_lexer": "ipython2",
   "version": "2.7.6"
  }
 },
 "nbformat": 4,
 "nbformat_minor": 5
}
